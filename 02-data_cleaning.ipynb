{
 "cells": [
  {
   "cell_type": "code",
   "execution_count": 2,
   "id": "38683654",
   "metadata": {},
   "outputs": [],
   "source": [
    "import pybaseball as pyb\n",
    "import pandas as pd"
   ]
  },
  {
   "cell_type": "code",
   "execution_count": 3,
   "id": "013dc510",
   "metadata": {},
   "outputs": [
    {
     "name": "stdout",
     "output_type": "stream",
     "text": [
      "\n",
      "--- Batting DataFrame Info ---\n",
      "<class 'pandas.core.frame.DataFrame'>\n",
      "RangeIndex: 3682 entries, 0 to 3681\n",
      "Columns: 320 entries, IDfg to L-WAR\n",
      "dtypes: float64(283), int64(33), object(4)\n",
      "memory usage: 9.0+ MB\n",
      "\n",
      "--- Pitching DataFrame Info ---\n",
      "<class 'pandas.core.frame.DataFrame'>\n",
      "RangeIndex: 1858 entries, 0 to 1857\n",
      "Columns: 393 entries, IDfg to Pit+ FO\n",
      "dtypes: float64(351), int64(38), object(4)\n",
      "memory usage: 5.6+ MB\n",
      "\n",
      "--- Team Standings DataFrame Info ---\n",
      "<class 'pandas.core.frame.DataFrame'>\n",
      "RangeIndex: 750 entries, 0 to 749\n",
      "Data columns (total 6 columns):\n",
      " #   Column  Non-Null Count  Dtype  \n",
      "---  ------  --------------  -----  \n",
      " 0   Tm      750 non-null    object \n",
      " 1   W       750 non-null    int64  \n",
      " 2   L       750 non-null    int64  \n",
      " 3   W-L%    750 non-null    float64\n",
      " 4   GB      750 non-null    object \n",
      " 5   Season  750 non-null    int64  \n",
      "dtypes: float64(1), int64(3), object(2)\n",
      "memory usage: 35.3+ KB\n"
     ]
    }
   ],
   "source": [
    "batting_df = pd.read_csv('fangraphs_batting_stats.csv')\n",
    "pitching_df = pd.read_csv('fangraphs_pitching_stats.csv')\n",
    "team_standings_df = pd.read_csv('mlb_team_standings.csv')\n",
    "\n",
    "# Look at column names, data types, missing values\n",
    "print(\"\\n--- Batting DataFrame Info ---\")\n",
    "batting_df.info()\n",
    "print(\"\\n--- Pitching DataFrame Info ---\")\n",
    "pitching_df.info()\n",
    "print(\"\\n--- Team Standings DataFrame Info ---\")\n",
    "team_standings_df.info()"
   ]
  },
  {
   "cell_type": "code",
   "execution_count": 4,
   "id": "8ba899db",
   "metadata": {},
   "outputs": [
    {
     "name": "stdout",
     "output_type": "stream",
     "text": [
      "\n",
      "Duplicates in batting_df: 0\n",
      "Duplicates in pitching_df: 0\n",
      "Duplicates in team_standings_df: 0\n"
     ]
    }
   ],
   "source": [
    "print(f\"\\nDuplicates in batting_df: {batting_df.duplicated().sum()}\")\n",
    "print(f\"Duplicates in pitching_df: {pitching_df.duplicated().sum()}\")\n",
    "print(f\"Duplicates in team_standings_df: {team_standings_df.duplicated().sum()}\")\n"
   ]
  }
 ],
 "metadata": {
  "kernelspec": {
   "display_name": "Python 3",
   "language": "python",
   "name": "python3"
  },
  "language_info": {
   "codemirror_mode": {
    "name": "ipython",
    "version": 3
   },
   "file_extension": ".py",
   "mimetype": "text/x-python",
   "name": "python",
   "nbconvert_exporter": "python",
   "pygments_lexer": "ipython3",
   "version": "3.11.1"
  }
 },
 "nbformat": 4,
 "nbformat_minor": 5
}

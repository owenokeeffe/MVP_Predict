{
 "cells": [
  {
   "cell_type": "code",
   "execution_count": 1,
   "id": "38683654",
   "metadata": {},
   "outputs": [],
   "source": [
    "import pybaseball as pyb\n",
    "import pandas as pd\n",
    "import numpy as np"
   ]
  },
  {
   "cell_type": "code",
   "execution_count": null,
   "id": "013dc510",
   "metadata": {},
   "outputs": [
    {
     "name": "stdout",
     "output_type": "stream",
     "text": [
      "<class 'pandas.core.frame.DataFrame'>\n",
      "RangeIndex: 144 entries, 0 to 143\n",
      "Columns: 320 entries, IDfg to L-WAR\n",
      "dtypes: float64(262), int64(54), object(4)\n",
      "memory usage: 360.1+ KB\n",
      "<class 'pandas.core.frame.DataFrame'>\n",
      "RangeIndex: 51 entries, 0 to 50\n",
      "Columns: 393 entries, IDfg to Pit+ FO\n",
      "dtypes: float64(319), int64(70), object(4)\n",
      "memory usage: 156.7+ KB\n"
     ]
    }
   ],
   "source": [
    "batting_df = pd.read_csv('fangraphs_batting_stats.csv')\n",
    "pitching_df = pd.read_csv('fangraphs_pitching_stats.csv')\n",
    "mvp_df = pd.read_csv('mvp_winners_2000_2024.csv')\n",
    "# Load the 2025 raw data\n",
    "batting_df_2025 = pd.read_csv('batting_stats_2025.csv')\n",
    "pitching_df_2025 = pd.read_csv('pitching_stats_2025.csv')\n",
    "\n",
    "\n",
    "# Look at column names, data types, missing values\n",
    "print(\"\\n--- Batting DataFrame Info ---\")\n",
    "batting_df.info()\n",
    "print(\"\\n--- Pitching DataFrame Info ---\")\n",
    "pitching_df.info()\n",
    "#print(\"\\n--- Team Standings DataFrame Info ---\")\n",
    "#team_standings_df.info()\n",
    "print(\"\\n--- MVP Winners DataFrame Info ---\")\n",
    "mvp_df.info()"
   ]
  },
  {
   "cell_type": "code",
   "execution_count": 3,
   "id": "8ba899db",
   "metadata": {},
   "outputs": [
    {
     "name": "stdout",
     "output_type": "stream",
     "text": [
      "\n",
      "Duplicates in batting_df: 0\n",
      "Duplicates in pitching_df: 0\n",
      "Duplicates in team_standings_df: 0\n"
     ]
    }
   ],
   "source": [
    "print(f\"\\nDuplicates in batting_df: {batting_df.duplicated().sum()}\")\n",
    "print(f\"Duplicates in pitching_df: {pitching_df.duplicated().sum()}\")\n",
    "print(f\"Duplicates in team_standings_df: {mvp_df.duplicated().sum()}\")\n"
   ]
  },
  {
   "cell_type": "markdown",
   "id": "69f8da69",
   "metadata": {},
   "source": [
    "Let's define what our obvious features may be as our \"keeper columns\"."
   ]
  },
  {
   "cell_type": "code",
   "execution_count": 4,
   "id": "f0298a5b",
   "metadata": {},
   "outputs": [],
   "source": [
    "# --- Define a wider set of \"keeper\" columns for each dataframe ---\n",
    "\n",
    "# Kept columns for batters\n",
    "batting_keepers = [\n",
    "    # Identifiers & Shared Info\n",
    "    'IDfg', 'Season', 'Name', 'Team', 'Age', 'G', 'WAR',\n",
    "    # Traditional Stats\n",
    "    'PA', 'HR', 'R', 'RBI', 'SB', 'BB%', 'K%', 'AVG', 'OBP', 'SLG', 'OPS',\n",
    "    # Advanced Value\n",
    "    'wOBA', 'wRC+', 'BABIP',\n",
    "    # Plate Discipline\n",
    "    'O-Swing%', 'Z-Swing%', 'Swing%', 'O-Contact%', 'Z-Contact%', 'Contact%', 'Zone%', 'SwStr%',\n",
    "    # Batted Ball Profile\n",
    "    'LD%', 'GB%', 'FB%', 'Hard%', 'Soft%', 'Pull%', 'Cent%', 'Oppo%', 'Barrel%'\n",
    "]\n",
    "\n",
    "# Kept columns for pitchers\n",
    "pitching_keepers = [\n",
    "    # Identifiers & Shared Info\n",
    "    'IDfg', 'Season', 'Name', 'Team', 'Age', 'G', 'WAR',\n",
    "    # Traditional Stats\n",
    "    'W', 'L', 'SV', 'IP', 'BB%', 'K%', 'HR/9', 'ERA', 'WHIP', 'FIP',\n",
    "    # Advanced Value\n",
    "    'ERA-', 'FIP-', 'xFIP-', 'BABIP',\n",
    "    # Plate Discipline (opponent's)\n",
    "    'O-Swing%', 'Z-Swing%', 'Swing%', 'O-Contact%', 'Z-Contact%', 'Contact%', 'Zone%', 'SwStr%',\n",
    "    # Batted Ball Profile (opponent's)\n",
    "    'LD%', 'GB%', 'FB%', 'Hard%', 'Soft%', 'Barrel%'\n",
    "]"
   ]
  },
  {
   "cell_type": "markdown",
   "id": "714b311b",
   "metadata": {},
   "source": [
    "Now we need to merge these DataFrames."
   ]
  },
  {
   "cell_type": "code",
   "execution_count": 5,
   "id": "5dc5d97e",
   "metadata": {},
   "outputs": [],
   "source": [
    "# Create new, smaller dataframes using the keeper lists\n",
    "# We use .copy() to avoid SettingWithCopyWarning\n",
    "small_bat_df = batting_df[batting_keepers].copy()\n",
    "small_pitch_df = pitching_df[pitching_keepers].copy()\n",
    "\n",
    "small_bat_df_2025 = batting_df_2025[batting_keepers].copy()\n",
    "small_pitch_df_2025 = pitching_df_2025[pitching_keepers].copy()\n",
    "\n",
    "\n",
    "# Merge the two SMALL dataframes\n",
    "merged_df = pd.merge(\n",
    "    small_bat_df,\n",
    "    small_pitch_df,\n",
    "    on=['IDfg', 'Season'],\n",
    "    how='outer',\n",
    "    suffixes=('_bat', '_pitch')\n",
    ")\n",
    "\n",
    "merged_2025 = pd.merge(small_bat_df_2025, small_pitch_df_2025, on=['IDfg', 'Season'], how='outer', suffixes=('_bat', '_pitch'))\n",
    "\n"
   ]
  },
  {
   "cell_type": "code",
   "execution_count": 6,
   "id": "168cb5fe",
   "metadata": {},
   "outputs": [],
   "source": [
    "# Consolidate the few truly shared descriptive columns\n",
    "merged_df['Name'] = merged_df['Name_bat'].fillna(merged_df['Name_pitch'])\n",
    "merged_df['Team'] = merged_df['Team_bat'].fillna(merged_df['Team_pitch'])\n",
    "merged_df['Age'] = merged_df['Age_bat'].fillna(merged_df['Age_pitch'])\n",
    "merged_df['G'] = merged_df['G_bat'].fillna(merged_df['G_pitch'])\n",
    "\n",
    "# Combine WAR from both sides, filling NaNs with 0 for single-sided players\n",
    "merged_df['WAR'] = merged_df['WAR_bat'].fillna(0) + merged_df['WAR_pitch'].fillna(0)\n",
    "\n",
    "# Drop the old, redundant suffixed columns\n",
    "merged_df.drop(columns=[\n",
    "    'Name_bat', 'Name_pitch', 'Team_bat', 'Team_pitch',\n",
    "    'Age_bat', 'Age_pitch', 'G_bat', 'G_pitch', 'WAR_bat', 'WAR_pitch'\n",
    "], inplace=True)\n",
    "\n",
    "#Do the same for the Merged 2025 data\n",
    "# Consolidate the few truly shared descriptive columns\n",
    "merged_2025['Name'] = merged_2025['Name_bat'].fillna(merged_2025['Name_pitch'])\n",
    "merged_2025['Team'] = merged_2025['Team_bat'].fillna(merged_2025['Team_pitch'])\n",
    "merged_2025['Age'] = merged_2025['Age_bat'].fillna(merged_2025['Age_pitch'])\n",
    "merged_2025['G'] = merged_2025['G_bat'].fillna(merged_2025['G_pitch'])\n",
    "\n",
    "# Combine WAR from both sides, filling NaNs with 0 for single-sided players\n",
    "merged_2025['WAR'] = merged_2025['WAR_bat'].fillna(0) + merged_2025['WAR_pitch'].fillna(0)\n",
    "\n",
    "# Drop the old, redundant suffixed columns\n",
    "merged_2025.drop(columns=[\n",
    "    'Name_bat', 'Name_pitch', 'Team_bat', 'Team_pitch',\n",
    "    'Age_bat', 'Age_pitch', 'G_bat', 'G_pitch', 'WAR_bat', 'WAR_pitch'\n",
    "], inplace=True)\n",
    "\n"
   ]
  },
  {
   "cell_type": "markdown",
   "id": "eafe1df5",
   "metadata": {},
   "source": [
    "Now we should have all of the players merged together with a new column for if they won the MVP award or not. "
   ]
  },
  {
   "cell_type": "code",
   "execution_count": 7,
   "id": "c01eac0b",
   "metadata": {},
   "outputs": [
    {
     "name": "stderr",
     "output_type": "stream",
     "text": [
      "/var/folders/pz/pxdv_rx91j70b52l206jy3qr0000gn/T/ipykernel_34473/508370510.py:4: FutureWarning: Downcasting object dtype arrays on .fillna, .ffill, .bfill is deprecated and will change in a future version. Call result.infer_objects(copy=False) instead. To opt-in to the future behavior, set `pd.set_option('future.no_silent_downcasting', True)`\n",
      "  merged_df['MVP'] = merged_df['MVP'].fillna(False)\n"
     ]
    },
    {
     "name": "stdout",
     "output_type": "stream",
     "text": [
      "Processed data saved to 'processed_mvp_data.csv'\n",
      "Final DataFrame shape: (32960, 68)\n",
      "Final DataFrame shape: (195, 67)\n",
      "   IDfg  Season     PA   HR     R   RBI    SB  BB%_bat  K%_bat    AVG  ...  \\\n",
      "0     1    2002   13.0  0.0   3.0   2.0   1.0    0.000   0.077  0.538  ...   \n",
      "1     1    2003  120.0  2.0  15.0   7.0   2.0    0.075   0.192  0.210  ...   \n",
      "2     1    2004  105.0  2.0  12.0  11.0   3.0    0.029   0.229  0.161  ...   \n",
      "3     1    2005    9.0  0.0   3.0   0.0   1.0    0.111   0.000  0.250  ...   \n",
      "4     1    2006  378.0  3.0  42.0  19.0  20.0    0.087   0.122  0.260  ...   \n",
      "\n",
      "   Hard%_pitch  Soft%_pitch  Barrel%_pitch             Name   Team   Age  \\\n",
      "0          NaN          NaN            NaN  Alfredo Amezaga    ANA  24.0   \n",
      "1          NaN          NaN            NaN  Alfredo Amezaga    ANA  25.0   \n",
      "2          NaN          NaN            NaN  Alfredo Amezaga    ANA  26.0   \n",
      "3          NaN          NaN            NaN  Alfredo Amezaga  - - -  27.0   \n",
      "4          NaN          NaN            NaN  Alfredo Amezaga    FLA  28.0   \n",
      "\n",
      "       G  WAR  League    MVP  \n",
      "0   12.0  0.2     NaN  False  \n",
      "1   37.0 -0.2     NaN  False  \n",
      "2   73.0 -0.3     NaN  False  \n",
      "3    6.0  0.0     NaN  False  \n",
      "4  132.0  1.1      NL  False  \n",
      "\n",
      "[5 rows x 68 columns]\n"
     ]
    }
   ],
   "source": [
    "# Add the MVP flag\n",
    "mvp_df['MVP'] = True\n",
    "merged_df = pd.merge(merged_df, mvp_df[['Name', 'Season', 'League', 'MVP']], on=['Name', 'Season'], how='left')\n",
    "merged_df['MVP'] = merged_df['MVP'].fillna(False)\n",
    "\n",
    "# --- Assign League to all players based on team ---\n",
    "al_teams = ['BAL', 'BOS', 'NYY', 'TBR', 'TBD', 'TOR', 'CHW', 'CWS', 'CLE', 'DET', 'KCR', 'MIN', 'LAA', 'OAK', 'SEA', 'TEX']\n",
    "nl_teams = ['ATL', 'MIA', 'FLA', 'NYM', 'PHI', 'WSN', 'WSH', 'MON', 'CHC', 'CIN', 'MIL', 'PIT', 'STL', 'ARI', 'COL', 'LAD', 'SDP', 'SFG', 'SF']\n",
    "\n",
    "def assign_league(row):\n",
    "    if row['Team'] == 'HOU':\n",
    "        return 'AL' if row['Season'] >= 2013 else 'NL'\n",
    "    if row['Team'] in al_teams:\n",
    "        return 'AL'\n",
    "    elif row['Team'] in nl_teams:\n",
    "        return 'NL'\n",
    "    return np.nan\n",
    "\n",
    "# Fill the League column for non-MVP players\n",
    "merged_df['League_from_Team'] = merged_df.apply(assign_league, axis=1)\n",
    "merged_df['League'] = merged_df['League'].fillna(merged_df['League_from_Team'])\n",
    "merged_df.drop(columns=['League_from_Team'], inplace=True)\n",
    "\n",
    "merged_2025['League'] = merged_2025.apply(assign_league, axis=1)\n",
    "\n",
    "\n",
    "# Save the final, processed file\n",
    "merged_df.to_csv('processed_mvp_data.csv', index=False)\n",
    "merged_2025.to_csv('processed_2025_data.csv', index=False)\n",
    "\n",
    "print(\"Processed data saved to 'processed_mvp_data.csv'\")\n",
    "print(f\"Final DataFrame shape: {merged_df.shape}\")\n",
    "print(f\"Final DataFrame shape: {merged_2025.shape}\")\n",
    "print(merged_df.head())"
   ]
  }
 ],
 "metadata": {
  "kernelspec": {
   "display_name": "Python 3",
   "language": "python",
   "name": "python3"
  },
  "language_info": {
   "codemirror_mode": {
    "name": "ipython",
    "version": 3
   },
   "file_extension": ".py",
   "mimetype": "text/x-python",
   "name": "python",
   "nbconvert_exporter": "python",
   "pygments_lexer": "ipython3",
   "version": "3.11.1"
  }
 },
 "nbformat": 4,
 "nbformat_minor": 5
}

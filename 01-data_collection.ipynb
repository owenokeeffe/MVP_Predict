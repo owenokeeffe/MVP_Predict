{
 "cells": [
  {
   "cell_type": "markdown",
   "id": "468f1a32",
   "metadata": {},
   "source": [
    "**Predicting the MLB's Most Valuable Player!**"
   ]
  },
  {
   "cell_type": "code",
   "execution_count": 1,
   "id": "5de25f98",
   "metadata": {},
   "outputs": [],
   "source": [
    "import time\n",
    "import pybaseball as pyb\n",
    "import pandas as pd"
   ]
  },
  {
   "cell_type": "code",
   "execution_count": 2,
   "id": "bb272ac8",
   "metadata": {},
   "outputs": [],
   "source": [
    "# Let's get batting stats for a range of seasons (2000-2024)\n",
    "# MVP voting often considers seasons where sabermetrics became more widely recognized.\n",
    "start_season = 2000\n",
    "end_season = 2024 "
   ]
  },
  {
   "cell_type": "code",
   "execution_count": 3,
   "id": "75b85c23",
   "metadata": {},
   "outputs": [
    {
     "name": "stdout",
     "output_type": "stream",
     "text": [
      "Fetching batting stats from FanGraphs for seasons 2000-2024...\n",
      "  Fetching batting stats for 2000...\n",
      "  Fetching batting stats for 2001...\n",
      "  Fetching batting stats for 2002...\n",
      "  Fetching batting stats for 2003...\n",
      "  Fetching batting stats for 2004...\n",
      "  Fetching batting stats for 2005...\n",
      "  Fetching batting stats for 2006...\n",
      "  Fetching batting stats for 2007...\n",
      "  Fetching batting stats for 2008...\n",
      "  Fetching batting stats for 2009...\n",
      "  Fetching batting stats for 2010...\n",
      "  Fetching batting stats for 2011...\n",
      "  Fetching batting stats for 2012...\n",
      "  Fetching batting stats for 2013...\n",
      "  Fetching batting stats for 2014...\n",
      "  Fetching batting stats for 2015...\n",
      "  Fetching batting stats for 2016...\n",
      "  Fetching batting stats for 2017...\n",
      "  Fetching batting stats for 2018...\n",
      "  Fetching batting stats for 2019...\n",
      "  Fetching batting stats for 2020...\n",
      "  Fetching batting stats for 2021...\n",
      "  Fetching batting stats for 2022...\n",
      "  Fetching batting stats for 2023...\n",
      "  Fetching batting stats for 2024...\n",
      "Batting stats fetched successfully!\n"
     ]
    }
   ],
   "source": [
    "batting_stats_list = []\n",
    "print(f\"Fetching batting stats from FanGraphs for seasons {start_season}-{end_season}...\")\n",
    "\n",
    "for year in range(start_season, end_season + 1):\n",
    "    print(f\"  Fetching batting stats for {year}...\")\n",
    "    # Fetch data for one year at a time\n",
    "    yearly_batting_stats = pyb.batting_stats(year, year, qual=0)\n",
    "    batting_stats_list.append(yearly_batting_stats)\n",
    "    time.sleep(1) # Be polite to the server by waiting a second between requests\n",
    "\n",
    "# Combine the list of DataFrames into a single DataFrame\n",
    "batting_stats = pd.concat(batting_stats_list, ignore_index=True)\n",
    "print(\"Batting stats fetched successfully!\")\n"
   ]
  },
  {
   "cell_type": "markdown",
   "id": "8640e711",
   "metadata": {},
   "source": [
    "**Let's take a look at some sample batting statistics.**"
   ]
  },
  {
   "cell_type": "code",
   "execution_count": 4,
   "id": "43487554",
   "metadata": {},
   "outputs": [
    {
     "name": "stdout",
     "output_type": "stream",
     "text": [
      "\n",
      "Sample Batting Stats:\n",
      "   IDfg  Season            Name Team  Age    G   AB   PA    H   1B  ...  \\\n",
      "0  1274    2000  Alex Rodriguez  SEA   24  148  554  672  175   98  ...   \n",
      "1    11    2000    Darin Erstad  ANA   26  157  676  747  240  170  ...   \n",
      "2   432    2000     Todd Helton  COL   26  160  580  697  216  113  ...   \n",
      "3    15    2000      Troy Glaus  ANA   23  159  563  678  160   75  ...   \n",
      "4   818    2000    Jason Giambi  OAK   29  152  510  664  170   97  ...   \n",
      "\n",
      "   maxEV  HardHit  HardHit%  Events  CStr%  CSW%  xBA  xSLG  xwOBA  L-WAR  \n",
      "0    NaN      NaN       NaN       0    NaN   NaN  NaN   NaN    NaN    9.5  \n",
      "1    NaN      NaN       NaN       0    NaN   NaN  NaN   NaN    NaN    8.7  \n",
      "2    NaN      NaN       NaN       0    NaN   NaN  NaN   NaN    NaN    8.3  \n",
      "3    NaN      NaN       NaN       0    NaN   NaN  NaN   NaN    NaN    8.2  \n",
      "4    NaN      NaN       NaN       0    NaN   NaN  NaN   NaN    NaN    7.7  \n",
      "\n",
      "[5 rows x 320 columns]\n",
      "\n",
      "Shape of batting_stats: (32465, 320)\n"
     ]
    }
   ],
   "source": [
    "print(\"\\nSample Batting Stats:\")\n",
    "print(batting_stats.head())\n",
    "print(f\"\\nShape of batting_stats: {batting_stats.shape}\")"
   ]
  },
  {
   "cell_type": "markdown",
   "id": "052850a9",
   "metadata": {},
   "source": [
    "**We can't forget pitchers too!**"
   ]
  },
  {
   "cell_type": "code",
   "execution_count": 5,
   "id": "e8087d05",
   "metadata": {},
   "outputs": [
    {
     "name": "stdout",
     "output_type": "stream",
     "text": [
      "\n",
      "Fetching pitching stats from FanGraphs for seasons 2000-2024...\n",
      "  Fetching pitching stats for 2000...\n",
      "  Fetching pitching stats for 2001...\n",
      "  Fetching pitching stats for 2002...\n",
      "  Fetching pitching stats for 2003...\n",
      "  Fetching pitching stats for 2004...\n",
      "  Fetching pitching stats for 2005...\n",
      "  Fetching pitching stats for 2006...\n",
      "  Fetching pitching stats for 2007...\n",
      "  Fetching pitching stats for 2008...\n",
      "  Fetching pitching stats for 2009...\n",
      "  Fetching pitching stats for 2010...\n",
      "  Fetching pitching stats for 2011...\n",
      "  Fetching pitching stats for 2012...\n",
      "  Fetching pitching stats for 2013...\n",
      "  Fetching pitching stats for 2014...\n",
      "  Fetching pitching stats for 2015...\n",
      "  Fetching pitching stats for 2016...\n",
      "  Fetching pitching stats for 2017...\n",
      "  Fetching pitching stats for 2018...\n",
      "  Fetching pitching stats for 2019...\n",
      "  Fetching pitching stats for 2020...\n",
      "  Fetching pitching stats for 2021...\n",
      "  Fetching pitching stats for 2022...\n",
      "  Fetching pitching stats for 2023...\n",
      "  Fetching pitching stats for 2024...\n",
      "Pitching stats fetched successfully!\n"
     ]
    }
   ],
   "source": [
    "pitching_stats_list = []\n",
    "print(f\"\\nFetching pitching stats from FanGraphs for seasons {start_season}-{end_season}...\")\n",
    "\n",
    "for year in range(start_season, end_season + 1):\n",
    "    print(f\"  Fetching pitching stats for {year}...\")\n",
    "    # Fetch data for one year at a time\n",
    "    yearly_pitching_stats = pyb.pitching_stats(year, year, qual=0)\n",
    "    pitching_stats_list.append(yearly_pitching_stats)\n",
    "    time.sleep(1) # Be polite to the server\n",
    "\n",
    "# Combine the list of DataFrames into a single DataFrame\n",
    "pitching_stats = pd.concat(pitching_stats_list, ignore_index=True)\n",
    "print(\"Pitching stats fetched successfully!\")"
   ]
  },
  {
   "cell_type": "markdown",
   "id": "858ad468",
   "metadata": {},
   "source": [
    "**Let's take a look at some sample pitching statistics.**"
   ]
  },
  {
   "cell_type": "code",
   "execution_count": 6,
   "id": "0b5d8c11",
   "metadata": {},
   "outputs": [
    {
     "name": "stdout",
     "output_type": "stream",
     "text": [
      "\n",
      "Sample Pitching Stats:\n",
      "   IDfg  Season            Name Team  Age   W   L  WAR   ERA   G  ...  \\\n",
      "0    60    2000   Randy Johnson  ARI   36  19   7  9.6  2.64  35  ...   \n",
      "1   200    2000  Pedro Martinez  BOS   28  18   6  9.4  1.74  29  ...   \n",
      "2   104    2000     Greg Maddux  ATL   34  19   9  7.2  3.00  35  ...   \n",
      "3   642    2000     Kevin Brown  LAD   35  13   6  6.8  2.58  33  ...   \n",
      "4   837    2000    Mike Mussina  BAL   31  11  15  6.4  3.79  34  ...   \n",
      "\n",
      "   Pit+ FC  Stf+ FS  Loc+ FS  Pit+ FS  Stuff+  Location+  Pitching+  Stf+ FO  \\\n",
      "0      NaN      NaN      NaN      NaN     NaN        NaN        NaN      NaN   \n",
      "1      NaN      NaN      NaN      NaN     NaN        NaN        NaN      NaN   \n",
      "2      NaN      NaN      NaN      NaN     NaN        NaN        NaN      NaN   \n",
      "3      NaN      NaN      NaN      NaN     NaN        NaN        NaN      NaN   \n",
      "4      NaN      NaN      NaN      NaN     NaN        NaN        NaN      NaN   \n",
      "\n",
      "   Loc+ FO  Pit+ FO  \n",
      "0      NaN      NaN  \n",
      "1      NaN      NaN  \n",
      "2      NaN      NaN  \n",
      "3      NaN      NaN  \n",
      "4      NaN      NaN  \n",
      "\n",
      "[5 rows x 393 columns]\n",
      "\n",
      "Shape of pitching_stats: (17698, 393)\n"
     ]
    }
   ],
   "source": [
    "print(\"\\nSample Pitching Stats:\")\n",
    "print(pitching_stats.head())\n",
    "print(f\"\\nShape of pitching_stats: {pitching_stats.shape}\")\n"
   ]
  },
  {
   "cell_type": "markdown",
   "id": "76ad11ca",
   "metadata": {},
   "source": [
    "**Now I can save both the hitting and pitching stats as CSVs, so we do not have to scrape them everytime.**"
   ]
  },
  {
   "cell_type": "code",
   "execution_count": 7,
   "id": "69be3fc1",
   "metadata": {},
   "outputs": [
    {
     "name": "stdout",
     "output_type": "stream",
     "text": [
      "\n",
      "Data saved to CSV files.\n"
     ]
    }
   ],
   "source": [
    "batting_stats.to_csv('fangraphs_batting_stats.csv', index=False)\n",
    "pitching_stats.to_csv('fangraphs_pitching_stats.csv', index=False)\n",
    "print(\"\\nData saved to CSV files.\")"
   ]
  },
  {
   "cell_type": "markdown",
   "id": "b82e1501",
   "metadata": {},
   "source": [
    "**Now, I will input all of the MVP winners and their information. Let's start with all of the AL MVPs!**"
   ]
  },
  {
   "cell_type": "code",
   "execution_count": 8,
   "id": "5a9e46d8",
   "metadata": {},
   "outputs": [],
   "source": [
    "mvp_data = []\n",
    "\n",
    "# American League MVP Winners\n",
    "al_mvps = [\n",
    "    (2000, 'Jason Giambi', 'AL', 'OAK'),\n",
    "    (2001, 'Ichiro Suzuki', 'AL', 'SEA'),\n",
    "    (2002, 'Miguel Tejada', 'AL', 'OAK'),\n",
    "    (2003, 'Alex Rodriguez', 'AL', 'TEX'),\n",
    "    (2004, 'Vladimir Guerrero', 'AL', 'LAA'), \n",
    "    (2005, 'Alex Rodriguez', 'AL', 'NYY'),\n",
    "    (2006, 'Justin Morneau', 'AL', 'MIN'),\n",
    "    (2007, 'Alex Rodriguez', 'AL', 'NYY'),\n",
    "    (2008, 'Dustin Pedroia', 'AL', 'BOS'),\n",
    "    (2009, 'Joe Mauer', 'AL', 'MIN'),\n",
    "    (2010, 'Josh Hamilton', 'AL', 'TEX'),\n",
    "    (2011, 'Justin Verlander', 'AL', 'DET'),\n",
    "    (2012, 'Miguel Cabrera', 'AL', 'DET'),\n",
    "    (2013, 'Miguel Cabrera', 'AL', 'DET'),\n",
    "    (2014, 'Mike Trout', 'AL', 'LAA'),\n",
    "    (2015, 'Josh Donaldson', 'AL', 'TOR'),\n",
    "    (2016, 'Mike Trout', 'AL', 'LAA'),\n",
    "    (2017, 'Jose Altuve', 'AL', 'HOU'),\n",
    "    (2018, 'Mookie Betts', 'AL', 'BOS'),\n",
    "    (2019, 'Mike Trout', 'AL', 'LAA'),\n",
    "    (2020, 'José Abreu', 'AL', 'CHW'),\n",
    "    (2021, 'Shohei Ohtani', 'AL', 'LAA'),\n",
    "    (2022, 'Aaron Judge', 'AL', 'NYY'),\n",
    "    (2023, 'Shohei Ohtani', 'AL', 'LAA'),\n",
    "    (2024, 'Aaron Judge', 'AL', 'NYY')\n",
    "]\n",
    "mvp_data.extend(al_mvps)"
   ]
  },
  {
   "cell_type": "markdown",
   "id": "5dbd9cdd",
   "metadata": {},
   "source": [
    "**Now for the NL MVPs!**"
   ]
  },
  {
   "cell_type": "code",
   "execution_count": 9,
   "id": "92126931",
   "metadata": {},
   "outputs": [],
   "source": [
    "# National League MVP Winners\n",
    "nl_mvps = [\n",
    "    (2000, 'Jeff Kent', 'NL', 'SF'),\n",
    "    (2001, 'Barry Bonds', 'NL', 'SF'),\n",
    "    (2002, 'Barry Bonds', 'NL', 'SF'),\n",
    "    (2003, 'Barry Bonds', 'NL', 'SF'),\n",
    "    (2004, 'Barry Bonds', 'NL', 'SF'),\n",
    "    (2005, 'Albert Pujols', 'NL', 'STL'),\n",
    "    (2006, 'Ryan Howard', 'NL', 'PHI'),\n",
    "    (2007, 'Jimmy Rollins', 'NL', 'PHI'),\n",
    "    (2008, 'Albert Pujols', 'NL', 'STL'),\n",
    "    (2009, 'Albert Pujols', 'NL', 'STL'),\n",
    "    (2010, 'Joey Votto', 'NL', 'CIN'),\n",
    "    (2011, 'Ryan Braun', 'NL', 'MIL'),\n",
    "    (2012, 'Buster Posey', 'NL', 'SF'),\n",
    "    (2013, 'Andrew McCutchen', 'NL', 'PIT'),\n",
    "    (2014, 'Clayton Kershaw', 'NL', 'LAD'),\n",
    "    (2015, 'Bryce Harper', 'NL', 'WSH'),\n",
    "    (2016, 'Kris Bryant', 'NL', 'CHC'),\n",
    "    (2017, 'Giancarlo Stanton', 'NL', 'MIA'),\n",
    "    (2018, 'Christian Yelich', 'NL', 'MIL'),\n",
    "    (2019, 'Cody Bellinger', 'NL', 'LAD'),\n",
    "    (2020, 'Freddie Freeman', 'NL', 'ATL'),\n",
    "    (2021, 'Bryce Harper', 'NL', 'PHI'),\n",
    "    (2022, 'Paul Goldschmidt', 'NL', 'STL'),\n",
    "    (2023, 'Ronald Acuña Jr.', 'NL', 'ATL'),\n",
    "    (2024, 'Shohei Ohtani', 'NL', 'LAD') # Based on current information/projections for 2024\n",
    "]\n",
    "mvp_data.extend(nl_mvps)\n"
   ]
  },
  {
   "cell_type": "markdown",
   "id": "d73d725f",
   "metadata": {},
   "source": [
    "**Let's bring them together into one dataframe.**"
   ]
  },
  {
   "cell_type": "code",
   "execution_count": 10,
   "id": "d9949cd5",
   "metadata": {},
   "outputs": [
    {
     "name": "stdout",
     "output_type": "stream",
     "text": [
      "   Season               Name League Team\n",
      "0    2000       Jason Giambi     AL  OAK\n",
      "1    2001      Ichiro Suzuki     AL  SEA\n",
      "2    2002      Miguel Tejada     AL  OAK\n",
      "3    2003     Alex Rodriguez     AL  TEX\n",
      "4    2004  Vladimir Guerrero     AL  LAA\n",
      "    Season              Name League Team\n",
      "45    2020   Freddie Freeman     NL  ATL\n",
      "46    2021      Bryce Harper     NL  PHI\n",
      "47    2022  Paul Goldschmidt     NL  STL\n",
      "48    2023  Ronald Acuña Jr.     NL  ATL\n",
      "49    2024     Shohei Ohtani     NL  LAD\n",
      "\n",
      "Total MVP winners recorded: 50\n"
     ]
    }
   ],
   "source": [
    "mvp_df = pd.DataFrame(mvp_data, columns=['Season', 'Name', 'League', 'Team'])\n",
    "\n",
    "print(mvp_df.head())\n",
    "print(mvp_df.tail())\n",
    "print(f\"\\nTotal MVP winners recorded: {len(mvp_df)}\")\n"
   ]
  },
  {
   "cell_type": "markdown",
   "id": "98318433",
   "metadata": {},
   "source": [
    "**Once again, I will save this as a CSV.**"
   ]
  },
  {
   "cell_type": "code",
   "execution_count": 11,
   "id": "b1f8bf1a",
   "metadata": {},
   "outputs": [
    {
     "name": "stdout",
     "output_type": "stream",
     "text": [
      "\n",
      "MVP winners data saved to 'mvp_winners_2000_2024.csv'\n"
     ]
    }
   ],
   "source": [
    "mvp_df.to_csv('mvp_winners_2000_2024.csv', index=False)\n",
    "print(\"\\nMVP winners data saved to 'mvp_winners_2000_2024.csv'\")"
   ]
  }
 ],
 "metadata": {
  "kernelspec": {
   "display_name": "Python 3",
   "language": "python",
   "name": "python3"
  },
  "language_info": {
   "codemirror_mode": {
    "name": "ipython",
    "version": 3
   },
   "file_extension": ".py",
   "mimetype": "text/x-python",
   "name": "python",
   "nbconvert_exporter": "python",
   "pygments_lexer": "ipython3",
   "version": "3.11.1"
  }
 },
 "nbformat": 4,
 "nbformat_minor": 5
}

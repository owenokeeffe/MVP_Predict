{
 "cells": [
  {
   "cell_type": "markdown",
   "id": "468f1a32",
   "metadata": {},
   "source": [
    "**Predicting the MLB's Most Valuable Player!**"
   ]
  },
  {
   "cell_type": "code",
   "execution_count": 1,
   "id": "5de25f98",
   "metadata": {},
   "outputs": [],
   "source": [
    "import pybaseball as pyb\n",
    "import pandas as pd"
   ]
  },
  {
   "cell_type": "code",
   "execution_count": 2,
   "id": "bb272ac8",
   "metadata": {},
   "outputs": [],
   "source": [
    "# Let's get batting stats for a range of seasons (2000-2024)\n",
    "# MVP voting often considers seasons where sabermetrics became more widely recognized.\n",
    "start_season = 2000\n",
    "end_season = 2024 "
   ]
  },
  {
   "cell_type": "code",
   "execution_count": 3,
   "id": "75b85c23",
   "metadata": {},
   "outputs": [
    {
     "name": "stdout",
     "output_type": "stream",
     "text": [
      "Fetching batting stats from FanGraphs for seasons 2000-2024...\n",
      "Batting stats fetched successfully!\n"
     ]
    }
   ],
   "source": [
    "print(f\"Fetching batting stats from FanGraphs for seasons {start_season}-{end_season}...\")\n",
    "batting_stats = pyb.batting_stats(start_season, end_season)\n",
    "print(\"Batting stats fetched successfully!\")"
   ]
  },
  {
   "cell_type": "markdown",
   "id": "8640e711",
   "metadata": {},
   "source": [
    "**Let's take a look at some sample batting statistics.**"
   ]
  },
  {
   "cell_type": "code",
   "execution_count": 4,
   "id": "43487554",
   "metadata": {},
   "outputs": [
    {
     "name": "stdout",
     "output_type": "stream",
     "text": [
      "\n",
      "Sample Batting Stats:\n",
      "     IDfg  Season         Name Team  Age    G   AB   PA    H  1B  ...  maxEV  \\\n",
      "0    1109    2002  Barry Bonds  SFG   37  143  403  612  149  70  ...    NaN   \n",
      "2    1109    2001  Barry Bonds  SFG   36  153  476  664  156  49  ...    NaN   \n",
      "1    1109    2004  Barry Bonds  SFG   39  147  373  617  135  60  ...    NaN   \n",
      "7   15640    2024  Aaron Judge  NYY   32  158  559  704  180  85  ...  117.5   \n",
      "18  15640    2022  Aaron Judge  NYY   30  157  570  696  177  87  ...  118.4   \n",
      "\n",
      "    HardHit  HardHit%  Events  CStr%   CSW%  xBA  xSLG  xwOBA  L-WAR  \n",
      "0       NaN       NaN       0  0.127  0.191  NaN   NaN    NaN   12.7  \n",
      "2       NaN       NaN       0    NaN    NaN  NaN   NaN    NaN   12.5  \n",
      "1       NaN       NaN       0  0.124  0.164  NaN   NaN    NaN   11.9  \n",
      "7     238.0     0.609     391  0.146  0.267  NaN   NaN    NaN   11.6  \n",
      "18    246.0     0.609     404  0.169  0.287  NaN   NaN    NaN   11.4  \n",
      "\n",
      "[5 rows x 320 columns]\n",
      "\n",
      "Shape of batting_stats: (3682, 320)\n"
     ]
    }
   ],
   "source": [
    "print(\"\\nSample Batting Stats:\")\n",
    "print(batting_stats.head())\n",
    "print(f\"\\nShape of batting_stats: {batting_stats.shape}\")"
   ]
  },
  {
   "cell_type": "markdown",
   "id": "052850a9",
   "metadata": {},
   "source": [
    "**We can't forget pitchers too!**"
   ]
  },
  {
   "cell_type": "code",
   "execution_count": 5,
   "id": "e8087d05",
   "metadata": {},
   "outputs": [
    {
     "name": "stdout",
     "output_type": "stream",
     "text": [
      "\n",
      "Fetching pitching stats from FanGraphs for seasons 2000-2024...\n",
      "Pitching stats fetched successfully!\n"
     ]
    }
   ],
   "source": [
    "print(f\"\\nFetching pitching stats from FanGraphs for seasons {start_season}-{end_season}...\")\n",
    "pitching_stats = pyb.pitching_stats(start_season, end_season)\n",
    "print(\"Pitching stats fetched successfully!\")"
   ]
  },
  {
   "cell_type": "markdown",
   "id": "858ad468",
   "metadata": {},
   "source": [
    "**Let's take a look at some sample pitching statistics.**"
   ]
  },
  {
   "cell_type": "code",
   "execution_count": 6,
   "id": "0b5d8c11",
   "metadata": {},
   "outputs": [
    {
     "name": "stdout",
     "output_type": "stream",
     "text": [
      "\n",
      "Sample Pitching Stats:\n",
      "     IDfg  Season            Name Team  Age   W   L   WAR   ERA   G  ...  \\\n",
      "70     60    2001   Randy Johnson  ARI   37  21   6  10.4  2.49  35  ...   \n",
      "104    60    2000   Randy Johnson  ARI   36  19   7   9.6  2.64  35  ...   \n",
      "95     60    2004   Randy Johnson  ARI   40  16  14   9.6  2.60  35  ...   \n",
      "4     200    2000  Pedro Martinez  BOS   28  18   6   9.4  1.74  29  ...   \n",
      "384    73    2002  Curt Schilling  ARI   35  23   7   9.3  3.23  36  ...   \n",
      "\n",
      "     Pit+ FC  Stf+ FS  Loc+ FS  Pit+ FS  Stuff+  Location+  Pitching+  \\\n",
      "70       NaN      NaN      NaN      NaN     NaN        NaN        NaN   \n",
      "104      NaN      NaN      NaN      NaN     NaN        NaN        NaN   \n",
      "95       NaN      NaN      NaN      NaN     NaN        NaN        NaN   \n",
      "4        NaN      NaN      NaN      NaN     NaN        NaN        NaN   \n",
      "384      NaN      NaN      NaN      NaN     NaN        NaN        NaN   \n",
      "\n",
      "     Stf+ FO  Loc+ FO  Pit+ FO  \n",
      "70       NaN      NaN      NaN  \n",
      "104      NaN      NaN      NaN  \n",
      "95       NaN      NaN      NaN  \n",
      "4        NaN      NaN      NaN  \n",
      "384      NaN      NaN      NaN  \n",
      "\n",
      "[5 rows x 393 columns]\n",
      "\n",
      "Shape of pitching_stats: (1858, 393)\n"
     ]
    }
   ],
   "source": [
    "print(\"\\nSample Pitching Stats:\")\n",
    "print(pitching_stats.head())\n",
    "print(f\"\\nShape of pitching_stats: {pitching_stats.shape}\")\n"
   ]
  },
  {
   "cell_type": "markdown",
   "id": "76ad11ca",
   "metadata": {},
   "source": [
    "**Now I can save both the hitting and pitching stats as CSVs, so we do not have to scrape them everytime.**"
   ]
  },
  {
   "cell_type": "code",
   "execution_count": 7,
   "id": "69be3fc1",
   "metadata": {},
   "outputs": [
    {
     "name": "stdout",
     "output_type": "stream",
     "text": [
      "\n",
      "Data saved to CSV files.\n"
     ]
    }
   ],
   "source": [
    "batting_stats.to_csv('fangraphs_batting_stats.csv', index=False)\n",
    "pitching_stats.to_csv('fangraphs_pitching_stats.csv', index=False)\n",
    "print(\"\\nData saved to CSV files.\")"
   ]
  },
  {
   "cell_type": "markdown",
   "id": "b82e1501",
   "metadata": {},
   "source": [
    "**Now, I will input all of the MVP winners and their information. Let's start with all of the AL MVPs!**"
   ]
  },
  {
   "cell_type": "code",
   "execution_count": 8,
   "id": "5a9e46d8",
   "metadata": {},
   "outputs": [],
   "source": [
    "mvp_data = []\n",
    "\n",
    "# American League MVP Winners\n",
    "al_mvps = [\n",
    "    (2000, 'Jason Giambi', 'AL', 'OAK'),\n",
    "    (2001, 'Ichiro Suzuki', 'AL', 'SEA'),\n",
    "    (2002, 'Miguel Tejada', 'AL', 'OAK'),\n",
    "    (2003, 'Alex Rodriguez', 'AL', 'TEX'),\n",
    "    (2004, 'Vladimir Guerrero', 'AL', 'LAA'), \n",
    "    (2005, 'Alex Rodriguez', 'AL', 'NYY'),\n",
    "    (2006, 'Justin Morneau', 'AL', 'MIN'),\n",
    "    (2007, 'Alex Rodriguez', 'AL', 'NYY'),\n",
    "    (2008, 'Dustin Pedroia', 'AL', 'BOS'),\n",
    "    (2009, 'Joe Mauer', 'AL', 'MIN'),\n",
    "    (2010, 'Josh Hamilton', 'AL', 'TEX'),\n",
    "    (2011, 'Justin Verlander', 'AL', 'DET'),\n",
    "    (2012, 'Miguel Cabrera', 'AL', 'DET'),\n",
    "    (2013, 'Miguel Cabrera', 'AL', 'DET'),\n",
    "    (2014, 'Mike Trout', 'AL', 'LAA'),\n",
    "    (2015, 'Josh Donaldson', 'AL', 'TOR'),\n",
    "    (2016, 'Mike Trout', 'AL', 'LAA'),\n",
    "    (2017, 'Jose Altuve', 'AL', 'HOU'),\n",
    "    (2018, 'Mookie Betts', 'AL', 'BOS'),\n",
    "    (2019, 'Mike Trout', 'AL', 'LAA'),\n",
    "    (2020, 'José Abreu', 'AL', 'CHW'),\n",
    "    (2021, 'Shohei Ohtani', 'AL', 'LAA'),\n",
    "    (2022, 'Aaron Judge', 'AL', 'NYY'),\n",
    "    (2023, 'Shohei Ohtani', 'AL', 'LAA'),\n",
    "    (2024, 'Aaron Judge', 'AL', 'NYY')\n",
    "]\n",
    "mvp_data.extend(al_mvps)"
   ]
  },
  {
   "cell_type": "markdown",
   "id": "5dbd9cdd",
   "metadata": {},
   "source": [
    "**Now for the NL MVPs!**"
   ]
  },
  {
   "cell_type": "code",
   "execution_count": 9,
   "id": "92126931",
   "metadata": {},
   "outputs": [],
   "source": [
    "# National League MVP Winners\n",
    "nl_mvps = [\n",
    "    (2000, 'Jeff Kent', 'NL', 'SF'),\n",
    "    (2001, 'Barry Bonds', 'NL', 'SF'),\n",
    "    (2002, 'Barry Bonds', 'NL', 'SF'),\n",
    "    (2003, 'Barry Bonds', 'NL', 'SF'),\n",
    "    (2004, 'Barry Bonds', 'NL', 'SF'),\n",
    "    (2005, 'Albert Pujols', 'NL', 'STL'),\n",
    "    (2006, 'Ryan Howard', 'NL', 'PHI'),\n",
    "    (2007, 'Jimmy Rollins', 'NL', 'PHI'),\n",
    "    (2008, 'Albert Pujols', 'NL', 'STL'),\n",
    "    (2009, 'Albert Pujols', 'NL', 'STL'),\n",
    "    (2010, 'Joey Votto', 'NL', 'CIN'),\n",
    "    (2011, 'Ryan Braun', 'NL', 'MIL'),\n",
    "    (2012, 'Buster Posey', 'NL', 'SF'),\n",
    "    (2013, 'Andrew McCutchen', 'NL', 'PIT'),\n",
    "    (2014, 'Clayton Kershaw', 'NL', 'LAD'),\n",
    "    (2015, 'Bryce Harper', 'NL', 'WSH'),\n",
    "    (2016, 'Kris Bryant', 'NL', 'CHC'),\n",
    "    (2017, 'Giancarlo Stanton', 'NL', 'MIA'),\n",
    "    (2018, 'Christian Yelich', 'NL', 'MIL'),\n",
    "    (2019, 'Cody Bellinger', 'NL', 'LAD'),\n",
    "    (2020, 'Freddie Freeman', 'NL', 'ATL'),\n",
    "    (2021, 'Bryce Harper', 'NL', 'PHI'),\n",
    "    (2022, 'Paul Goldschmidt', 'NL', 'STL'),\n",
    "    (2023, 'Ronald Acuña Jr.', 'NL', 'ATL'),\n",
    "    (2024, 'Shohei Ohtani', 'NL', 'LAD') # Based on current information/projections for 2024\n",
    "]\n",
    "mvp_data.extend(nl_mvps)\n"
   ]
  },
  {
   "cell_type": "markdown",
   "id": "d73d725f",
   "metadata": {},
   "source": [
    "**Let's bring them together into one dataframe.**"
   ]
  },
  {
   "cell_type": "code",
   "execution_count": 10,
   "id": "d9949cd5",
   "metadata": {},
   "outputs": [
    {
     "name": "stdout",
     "output_type": "stream",
     "text": [
      "   Season               Name League Team\n",
      "0    2000       Jason Giambi     AL  OAK\n",
      "1    2001      Ichiro Suzuki     AL  SEA\n",
      "2    2002      Miguel Tejada     AL  OAK\n",
      "3    2003     Alex Rodriguez     AL  TEX\n",
      "4    2004  Vladimir Guerrero     AL  LAA\n",
      "    Season              Name League Team\n",
      "45    2020   Freddie Freeman     NL  ATL\n",
      "46    2021      Bryce Harper     NL  PHI\n",
      "47    2022  Paul Goldschmidt     NL  STL\n",
      "48    2023  Ronald Acuña Jr.     NL  ATL\n",
      "49    2024     Shohei Ohtani     NL  LAD\n",
      "\n",
      "Total MVP winners recorded: 50\n"
     ]
    }
   ],
   "source": [
    "mvp_df = pd.DataFrame(mvp_data, columns=['Season', 'Name', 'League', 'Team'])\n",
    "\n",
    "print(mvp_df.head())\n",
    "print(mvp_df.tail())\n",
    "print(f\"\\nTotal MVP winners recorded: {len(mvp_df)}\")\n"
   ]
  },
  {
   "cell_type": "markdown",
   "id": "98318433",
   "metadata": {},
   "source": [
    "**Once again, I will save this as a CSV.**"
   ]
  },
  {
   "cell_type": "code",
   "execution_count": 11,
   "id": "b1f8bf1a",
   "metadata": {},
   "outputs": [
    {
     "name": "stdout",
     "output_type": "stream",
     "text": [
      "\n",
      "MVP winners data saved to 'mvp_winners_2000_2024.csv'\n"
     ]
    }
   ],
   "source": [
    "mvp_df.to_csv('mvp_winners_2000_2024.csv', index=False)\n",
    "print(\"\\nMVP winners data saved to 'mvp_winners_2000_2024.csv'\")"
   ]
  },
  {
   "cell_type": "markdown",
   "id": "a8fc06e5",
   "metadata": {},
   "source": [
    "**One of the most important traits of an MVP winner is that their team actually wins! So, lets import each teams record for each season.**"
   ]
  },
  {
   "cell_type": "code",
   "execution_count": 15,
   "id": "5d9a30a2",
   "metadata": {},
   "outputs": [
    {
     "name": "stdout",
     "output_type": "stream",
     "text": [
      "No standings data found for season 2000. Skipping this season.\n"
     ]
    },
    {
     "ename": "KeyboardInterrupt",
     "evalue": "",
     "output_type": "error",
     "traceback": [
      "\u001b[0;31m---------------------------------------------------------------------------\u001b[0m",
      "\u001b[0;31mKeyboardInterrupt\u001b[0m                         Traceback (most recent call last)",
      "Cell \u001b[0;32mIn[15], line 5\u001b[0m\n\u001b[1;32m      1\u001b[0m all_standings \u001b[38;5;241m=\u001b[39m pd\u001b[38;5;241m.\u001b[39mDataFrame() \u001b[38;5;66;03m# Initialize an empty DataFrame\u001b[39;00m\n\u001b[1;32m      3\u001b[0m \u001b[38;5;28;01mfor\u001b[39;00m season \u001b[38;5;129;01min\u001b[39;00m \u001b[38;5;28mrange\u001b[39m(start_season, end_season \u001b[38;5;241m+\u001b[39m \u001b[38;5;241m1\u001b[39m):\n\u001b[1;32m      4\u001b[0m     \u001b[38;5;66;03m# standings(season) returns a LIST OF DATAFRAMES\u001b[39;00m\n\u001b[0;32m----> 5\u001b[0m     list_of_dfs_for_season \u001b[38;5;241m=\u001b[39m \u001b[43mpyb\u001b[49m\u001b[38;5;241;43m.\u001b[39;49m\u001b[43mstandings\u001b[49m\u001b[43m(\u001b[49m\u001b[43mseason\u001b[49m\u001b[43m)\u001b[49m\n\u001b[1;32m      7\u001b[0m     \u001b[38;5;28;01mif\u001b[39;00m \u001b[38;5;129;01mnot\u001b[39;00m list_of_dfs_for_season:\n\u001b[1;32m      8\u001b[0m         \u001b[38;5;28mprint\u001b[39m(\u001b[38;5;124mf\u001b[39m\u001b[38;5;124m\"\u001b[39m\u001b[38;5;124mNo standings data found for season \u001b[39m\u001b[38;5;132;01m{\u001b[39;00mseason\u001b[38;5;132;01m}\u001b[39;00m\u001b[38;5;124m. Skipping this season.\u001b[39m\u001b[38;5;124m\"\u001b[39m)\n",
      "File \u001b[0;32m/Library/Frameworks/Python.framework/Versions/3.11/lib/python3.11/site-packages/pybaseball/cache/cache.py:58\u001b[0m, in \u001b[0;36mdf_cache.__call__.<locals>._cached\u001b[0;34m(*args, **kwargs)\u001b[0m\n\u001b[1;32m     55\u001b[0m result \u001b[38;5;241m=\u001b[39m \u001b[38;5;28mself\u001b[39m\u001b[38;5;241m.\u001b[39m_safe_load_func_cache(func_data)\n\u001b[1;32m     57\u001b[0m \u001b[38;5;28;01mif\u001b[39;00m result \u001b[38;5;129;01mis\u001b[39;00m \u001b[38;5;28;01mNone\u001b[39;00m:\n\u001b[0;32m---> 58\u001b[0m     result \u001b[38;5;241m=\u001b[39m \u001b[43mfunc\u001b[49m\u001b[43m(\u001b[49m\u001b[38;5;241;43m*\u001b[39;49m\u001b[43margs\u001b[49m\u001b[43m,\u001b[49m\u001b[43m \u001b[49m\u001b[38;5;241;43m*\u001b[39;49m\u001b[38;5;241;43m*\u001b[39;49m\u001b[43mkwargs\u001b[49m\u001b[43m)\u001b[49m\n\u001b[1;32m     59\u001b[0m     \u001b[38;5;28;01mif\u001b[39;00m \u001b[38;5;28mlen\u001b[39m(result) \u001b[38;5;241m>\u001b[39m \u001b[38;5;241m0\u001b[39m:\n\u001b[1;32m     60\u001b[0m         \u001b[38;5;28mself\u001b[39m\u001b[38;5;241m.\u001b[39m_safe_save_func_cache(func_data, result)\n",
      "File \u001b[0;32m/Library/Frameworks/Python.framework/Versions/3.11/lib/python3.11/site-packages/pybaseball/standings.py:96\u001b[0m, in \u001b[0;36mstandings\u001b[0;34m(season)\u001b[0m\n\u001b[1;32m     90\u001b[0m     \u001b[38;5;28;01mraise\u001b[39;00m \u001b[38;5;167;01mValueError\u001b[39;00m(\n\u001b[1;32m     91\u001b[0m         \u001b[38;5;124m\"\u001b[39m\u001b[38;5;124mThis query currently only returns standings until the 1876 season. \u001b[39m\u001b[38;5;124m\"\u001b[39m\n\u001b[1;32m     92\u001b[0m         \u001b[38;5;124m\"\u001b[39m\u001b[38;5;124mTry looking at years from 1876 to present.\u001b[39m\u001b[38;5;124m\"\u001b[39m\n\u001b[1;32m     93\u001b[0m     )\n\u001b[1;32m     95\u001b[0m \u001b[38;5;66;03m# retrieve html from baseball reference\u001b[39;00m\n\u001b[0;32m---> 96\u001b[0m soup \u001b[38;5;241m=\u001b[39m \u001b[43mget_soup\u001b[49m\u001b[43m(\u001b[49m\u001b[43mseason\u001b[49m\u001b[43m)\u001b[49m\n\u001b[1;32m     97\u001b[0m \u001b[38;5;28;01mif\u001b[39;00m season \u001b[38;5;241m>\u001b[39m\u001b[38;5;241m=\u001b[39m \u001b[38;5;241m1969\u001b[39m:\n\u001b[1;32m     98\u001b[0m     raw_tables \u001b[38;5;241m=\u001b[39m get_tables(soup, season)\n",
      "File \u001b[0;32m/Library/Frameworks/Python.framework/Versions/3.11/lib/python3.11/site-packages/pybaseball/standings.py:14\u001b[0m, in \u001b[0;36mget_soup\u001b[0;34m(year)\u001b[0m\n\u001b[1;32m     12\u001b[0m \u001b[38;5;28;01mdef\u001b[39;00m \u001b[38;5;21mget_soup\u001b[39m(year: \u001b[38;5;28mint\u001b[39m) \u001b[38;5;241m-\u001b[39m\u001b[38;5;241m>\u001b[39m BeautifulSoup:\n\u001b[1;32m     13\u001b[0m     url \u001b[38;5;241m=\u001b[39m \u001b[38;5;124mf\u001b[39m\u001b[38;5;124m'\u001b[39m\u001b[38;5;124mhttp://www.baseball-reference.com/leagues/MLB/\u001b[39m\u001b[38;5;132;01m{\u001b[39;00myear\u001b[38;5;132;01m}\u001b[39;00m\u001b[38;5;124m-standings.shtml\u001b[39m\u001b[38;5;124m'\u001b[39m\n\u001b[0;32m---> 14\u001b[0m     s \u001b[38;5;241m=\u001b[39m \u001b[43msession\u001b[49m\u001b[38;5;241;43m.\u001b[39;49m\u001b[43mget\u001b[49m\u001b[43m(\u001b[49m\u001b[43murl\u001b[49m\u001b[43m)\u001b[49m\u001b[38;5;241m.\u001b[39mcontent\n\u001b[1;32m     15\u001b[0m     \u001b[38;5;28;01mreturn\u001b[39;00m BeautifulSoup(s, \u001b[38;5;124m\"\u001b[39m\u001b[38;5;124mlxml\u001b[39m\u001b[38;5;124m\"\u001b[39m)\n",
      "File \u001b[0;32m/Library/Frameworks/Python.framework/Versions/3.11/lib/python3.11/site-packages/pybaseball/datasources/bref.py:30\u001b[0m, in \u001b[0;36mBRefSession.get\u001b[0;34m(self, url, **kwargs)\u001b[0m\n\u001b[1;32m     28\u001b[0m     sleep_length \u001b[38;5;241m=\u001b[39m (\u001b[38;5;241m60\u001b[39m \u001b[38;5;241m/\u001b[39m \u001b[38;5;28mself\u001b[39m\u001b[38;5;241m.\u001b[39mmax_requests_per_minute) \u001b[38;5;241m-\u001b[39m delta\u001b[38;5;241m.\u001b[39mtotal_seconds()\n\u001b[1;32m     29\u001b[0m     \u001b[38;5;28;01mif\u001b[39;00m sleep_length \u001b[38;5;241m>\u001b[39m \u001b[38;5;241m0\u001b[39m:\n\u001b[0;32m---> 30\u001b[0m         sleep(sleep_length)\n\u001b[1;32m     32\u001b[0m \u001b[38;5;28mself\u001b[39m\u001b[38;5;241m.\u001b[39mlast_request \u001b[38;5;241m=\u001b[39m datetime\u001b[38;5;241m.\u001b[39mdatetime\u001b[38;5;241m.\u001b[39mnow()\n\u001b[1;32m     34\u001b[0m \u001b[38;5;28;01mreturn\u001b[39;00m \u001b[38;5;28mself\u001b[39m\u001b[38;5;241m.\u001b[39msession\u001b[38;5;241m.\u001b[39mget(url, \u001b[38;5;241m*\u001b[39m\u001b[38;5;241m*\u001b[39mkwargs)\n",
      "\u001b[0;31mKeyboardInterrupt\u001b[0m: "
     ]
    }
   ],
   "source": [
    "all_standings = pd.DataFrame() # Initialize an empty DataFrame\n",
    "\n",
    "for season in range(start_season, end_season + 1):\n",
    "    # standings(season) returns a LIST OF DATAFRAMES\n",
    "    list_of_dfs_for_season = pyb.standings(season)\n",
    "\n",
    "    if not list_of_dfs_for_season:\n",
    "        print(f\"No standings data found for season {season}. Skipping this season.\")\n",
    "        continue # Skip to the next season in the loop if no data is found\n",
    "    # Concatenate the DataFrames within this list into a single DataFrame for the current season\n",
    "    # Use ignore_index=True to reset the index of the concatenated season_df\n",
    "    season_df = pd.concat(list_of_dfs_for_season, ignore_index=True)\n",
    "\n",
    "    # Add a 'Season' column to identify the year\n",
    "    season_df['Season'] = season\n",
    "\n",
    "    # Now concatenate this single season_df to your master all_standings DataFrame\n",
    "    all_standings = pd.concat([all_standings, season_df], ignore_index=True)\n",
    "\n",
    "print(all_standings.head()) # Print the first few rows to verify\n",
    "print(all_standings.tail()) # Print the last few rows\n",
    "print(f\"Total rows in all_standings: {len(all_standings)}\")"
   ]
  },
  {
   "cell_type": "code",
   "execution_count": null,
   "id": "a8db89dd",
   "metadata": {},
   "outputs": [
    {
     "name": "stdout",
     "output_type": "stream",
     "text": [
      "Team standings saved to CSV.\n"
     ]
    }
   ],
   "source": [
    "all_standings.to_csv('mlb_team_standings.csv', index=False)\n",
    "print(\"Team standings saved to CSV.\")"
   ]
  },
  {
   "cell_type": "markdown",
   "id": "8ac4643a",
   "metadata": {},
   "source": []
  }
 ],
 "metadata": {
  "kernelspec": {
   "display_name": "Python 3",
   "language": "python",
   "name": "python3"
  },
  "language_info": {
   "codemirror_mode": {
    "name": "ipython",
    "version": 3
   },
   "file_extension": ".py",
   "mimetype": "text/x-python",
   "name": "python",
   "nbconvert_exporter": "python",
   "pygments_lexer": "ipython3",
   "version": "3.11.1"
  }
 },
 "nbformat": 4,
 "nbformat_minor": 5
}

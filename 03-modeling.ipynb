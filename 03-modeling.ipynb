{
 "cells": [
  {
   "cell_type": "code",
   "execution_count": 1,
   "id": "d6fa90b2",
   "metadata": {},
   "outputs": [],
   "source": [
    "import pybaseball as pyb\n",
    "import pandas as pd\n",
    "import numpy as np"
   ]
  },
  {
   "cell_type": "markdown",
   "id": "2f13260a",
   "metadata": {},
   "source": [
    "Read in the data."
   ]
  },
  {
   "cell_type": "code",
   "execution_count": 2,
   "id": "b3449bfb",
   "metadata": {},
   "outputs": [
    {
     "name": "stderr",
     "output_type": "stream",
     "text": [
      "/var/folders/pz/pxdv_rx91j70b52l206jy3qr0000gn/T/ipykernel_13825/3098505661.py:1: DtypeWarning: Columns (58,375) have mixed types. Specify dtype option on import or set low_memory=False.\n",
      "  df = pd.read_csv('raw_mvp_prediction_data.csv')\n"
     ]
    }
   ],
   "source": [
    "df = pd.read_csv('raw_mvp_prediction_data.csv')"
   ]
  }
 ],
 "metadata": {
  "kernelspec": {
   "display_name": "Python 3",
   "language": "python",
   "name": "python3"
  },
  "language_info": {
   "codemirror_mode": {
    "name": "ipython",
    "version": 3
   },
   "file_extension": ".py",
   "mimetype": "text/x-python",
   "name": "python",
   "nbconvert_exporter": "python",
   "pygments_lexer": "ipython3",
   "version": "3.11.1"
  }
 },
 "nbformat": 4,
 "nbformat_minor": 5
}
